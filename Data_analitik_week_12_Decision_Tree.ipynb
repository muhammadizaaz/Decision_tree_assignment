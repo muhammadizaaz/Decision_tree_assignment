{
  "nbformat": 4,
  "nbformat_minor": 0,
  "metadata": {
    "colab": {
      "provenance": []
    },
    "kernelspec": {
      "name": "python3",
      "display_name": "Python 3"
    },
    "language_info": {
      "name": "python"
    }
  },
  "cells": [
    {
      "cell_type": "code",
      "execution_count": 95,
      "metadata": {
        "id": "dqMI8LSiu3kT"
      },
      "outputs": [],
      "source": [
        "import pandas as pd\n",
        "import numpy as np\n",
        "import seaborn as sns\n",
        "import matplotlib.pyplot as plt"
      ]
    },
    {
      "cell_type": "code",
      "source": [
        "from google.colab import files\n",
        "files.upload()"
      ],
      "metadata": {
        "colab": {
          "base_uri": "https://localhost:8080/",
          "height": 162
        },
        "id": "NHGSITqkvdtW",
        "outputId": "29fa71d9-546f-4a5d-ef08-c75e46a680c8"
      },
      "execution_count": 96,
      "outputs": [
        {
          "output_type": "display_data",
          "data": {
            "text/plain": [
              "<IPython.core.display.HTML object>"
            ],
            "text/html": [
              "\n",
              "     <input type=\"file\" id=\"files-b0e012bf-6628-4569-a1ee-7f63750a5dd7\" name=\"files[]\" multiple disabled\n",
              "        style=\"border:none\" />\n",
              "     <output id=\"result-b0e012bf-6628-4569-a1ee-7f63750a5dd7\">\n",
              "      Upload widget is only available when the cell has been executed in the\n",
              "      current browser session. Please rerun this cell to enable.\n",
              "      </output>\n",
              "      <script>// Copyright 2017 Google LLC\n",
              "//\n",
              "// Licensed under the Apache License, Version 2.0 (the \"License\");\n",
              "// you may not use this file except in compliance with the License.\n",
              "// You may obtain a copy of the License at\n",
              "//\n",
              "//      http://www.apache.org/licenses/LICENSE-2.0\n",
              "//\n",
              "// Unless required by applicable law or agreed to in writing, software\n",
              "// distributed under the License is distributed on an \"AS IS\" BASIS,\n",
              "// WITHOUT WARRANTIES OR CONDITIONS OF ANY KIND, either express or implied.\n",
              "// See the License for the specific language governing permissions and\n",
              "// limitations under the License.\n",
              "\n",
              "/**\n",
              " * @fileoverview Helpers for google.colab Python module.\n",
              " */\n",
              "(function(scope) {\n",
              "function span(text, styleAttributes = {}) {\n",
              "  const element = document.createElement('span');\n",
              "  element.textContent = text;\n",
              "  for (const key of Object.keys(styleAttributes)) {\n",
              "    element.style[key] = styleAttributes[key];\n",
              "  }\n",
              "  return element;\n",
              "}\n",
              "\n",
              "// Max number of bytes which will be uploaded at a time.\n",
              "const MAX_PAYLOAD_SIZE = 100 * 1024;\n",
              "\n",
              "function _uploadFiles(inputId, outputId) {\n",
              "  const steps = uploadFilesStep(inputId, outputId);\n",
              "  const outputElement = document.getElementById(outputId);\n",
              "  // Cache steps on the outputElement to make it available for the next call\n",
              "  // to uploadFilesContinue from Python.\n",
              "  outputElement.steps = steps;\n",
              "\n",
              "  return _uploadFilesContinue(outputId);\n",
              "}\n",
              "\n",
              "// This is roughly an async generator (not supported in the browser yet),\n",
              "// where there are multiple asynchronous steps and the Python side is going\n",
              "// to poll for completion of each step.\n",
              "// This uses a Promise to block the python side on completion of each step,\n",
              "// then passes the result of the previous step as the input to the next step.\n",
              "function _uploadFilesContinue(outputId) {\n",
              "  const outputElement = document.getElementById(outputId);\n",
              "  const steps = outputElement.steps;\n",
              "\n",
              "  const next = steps.next(outputElement.lastPromiseValue);\n",
              "  return Promise.resolve(next.value.promise).then((value) => {\n",
              "    // Cache the last promise value to make it available to the next\n",
              "    // step of the generator.\n",
              "    outputElement.lastPromiseValue = value;\n",
              "    return next.value.response;\n",
              "  });\n",
              "}\n",
              "\n",
              "/**\n",
              " * Generator function which is called between each async step of the upload\n",
              " * process.\n",
              " * @param {string} inputId Element ID of the input file picker element.\n",
              " * @param {string} outputId Element ID of the output display.\n",
              " * @return {!Iterable<!Object>} Iterable of next steps.\n",
              " */\n",
              "function* uploadFilesStep(inputId, outputId) {\n",
              "  const inputElement = document.getElementById(inputId);\n",
              "  inputElement.disabled = false;\n",
              "\n",
              "  const outputElement = document.getElementById(outputId);\n",
              "  outputElement.innerHTML = '';\n",
              "\n",
              "  const pickedPromise = new Promise((resolve) => {\n",
              "    inputElement.addEventListener('change', (e) => {\n",
              "      resolve(e.target.files);\n",
              "    });\n",
              "  });\n",
              "\n",
              "  const cancel = document.createElement('button');\n",
              "  inputElement.parentElement.appendChild(cancel);\n",
              "  cancel.textContent = 'Cancel upload';\n",
              "  const cancelPromise = new Promise((resolve) => {\n",
              "    cancel.onclick = () => {\n",
              "      resolve(null);\n",
              "    };\n",
              "  });\n",
              "\n",
              "  // Wait for the user to pick the files.\n",
              "  const files = yield {\n",
              "    promise: Promise.race([pickedPromise, cancelPromise]),\n",
              "    response: {\n",
              "      action: 'starting',\n",
              "    }\n",
              "  };\n",
              "\n",
              "  cancel.remove();\n",
              "\n",
              "  // Disable the input element since further picks are not allowed.\n",
              "  inputElement.disabled = true;\n",
              "\n",
              "  if (!files) {\n",
              "    return {\n",
              "      response: {\n",
              "        action: 'complete',\n",
              "      }\n",
              "    };\n",
              "  }\n",
              "\n",
              "  for (const file of files) {\n",
              "    const li = document.createElement('li');\n",
              "    li.append(span(file.name, {fontWeight: 'bold'}));\n",
              "    li.append(span(\n",
              "        `(${file.type || 'n/a'}) - ${file.size} bytes, ` +\n",
              "        `last modified: ${\n",
              "            file.lastModifiedDate ? file.lastModifiedDate.toLocaleDateString() :\n",
              "                                    'n/a'} - `));\n",
              "    const percent = span('0% done');\n",
              "    li.appendChild(percent);\n",
              "\n",
              "    outputElement.appendChild(li);\n",
              "\n",
              "    const fileDataPromise = new Promise((resolve) => {\n",
              "      const reader = new FileReader();\n",
              "      reader.onload = (e) => {\n",
              "        resolve(e.target.result);\n",
              "      };\n",
              "      reader.readAsArrayBuffer(file);\n",
              "    });\n",
              "    // Wait for the data to be ready.\n",
              "    let fileData = yield {\n",
              "      promise: fileDataPromise,\n",
              "      response: {\n",
              "        action: 'continue',\n",
              "      }\n",
              "    };\n",
              "\n",
              "    // Use a chunked sending to avoid message size limits. See b/62115660.\n",
              "    let position = 0;\n",
              "    do {\n",
              "      const length = Math.min(fileData.byteLength - position, MAX_PAYLOAD_SIZE);\n",
              "      const chunk = new Uint8Array(fileData, position, length);\n",
              "      position += length;\n",
              "\n",
              "      const base64 = btoa(String.fromCharCode.apply(null, chunk));\n",
              "      yield {\n",
              "        response: {\n",
              "          action: 'append',\n",
              "          file: file.name,\n",
              "          data: base64,\n",
              "        },\n",
              "      };\n",
              "\n",
              "      let percentDone = fileData.byteLength === 0 ?\n",
              "          100 :\n",
              "          Math.round((position / fileData.byteLength) * 100);\n",
              "      percent.textContent = `${percentDone}% done`;\n",
              "\n",
              "    } while (position < fileData.byteLength);\n",
              "  }\n",
              "\n",
              "  // All done.\n",
              "  yield {\n",
              "    response: {\n",
              "      action: 'complete',\n",
              "    }\n",
              "  };\n",
              "}\n",
              "\n",
              "scope.google = scope.google || {};\n",
              "scope.google.colab = scope.google.colab || {};\n",
              "scope.google.colab._files = {\n",
              "  _uploadFiles,\n",
              "  _uploadFilesContinue,\n",
              "};\n",
              "})(self);\n",
              "</script> "
            ]
          },
          "metadata": {}
        },
        {
          "output_type": "stream",
          "name": "stdout",
          "text": [
            "Saving credit-HDG.csv to credit-HDG (1).csv\n"
          ]
        },
        {
          "output_type": "execute_result",
          "data": {
            "text/plain": [
              "{'credit-HDG.csv': b'Catatan_kredit,Utang,Jaminan,Pendapatan,Risiko\\r\\nburuk,rendah,tidak_ada,0-15,tinggi\\r\\ntidak_diketahui,tinggi,tidak_ada,15-35,tinggi\\r\\ntidak_diketahui,rendah,tidak_ada,15-35,rendah\\r\\nburuk,rendah,tidak_ada,0-15,tinggi\\r\\ntidak_diketahui,rendah,ada,>35,rendah\\r\\ntidak_diketahui,rendah,tidak_ada,>35,rendah\\r\\ntidak_diketahui,tinggi,tidak_ada,0-15,tinggi\\r\\nburuk,rendah,ada,>35,tinggi\\r\\nbaik,rendah,tidak_ada,>35,rendah\\r\\nbaik,tinggi,ada,>35,rendah\\r\\nbaik,tinggi,tidak_ada,0-15,tinggi\\r\\nbaik,tinggi,tidak_ada,15-35,tinggi\\r\\nbaik,tinggi,tidak_ada,>35,rendah\\r\\nburuk,tinggi,tidak_ada,15-35,tinggi\\r\\n'}"
            ]
          },
          "metadata": {},
          "execution_count": 96
        }
      ]
    },
    {
      "cell_type": "code",
      "source": [
        "df=pd.read_csv('credit-HDG.csv')\n",
        "df.head()"
      ],
      "metadata": {
        "id": "VvqbAMnXvpdP",
        "colab": {
          "base_uri": "https://localhost:8080/",
          "height": 206
        },
        "outputId": "ec765c99-b881-4e62-eb50-c20a41ea35af"
      },
      "execution_count": 115,
      "outputs": [
        {
          "output_type": "execute_result",
          "data": {
            "text/plain": [
              "    Catatan_kredit   Utang    Jaminan Pendapatan  Risiko\n",
              "0            buruk  rendah  tidak_ada       0-15  tinggi\n",
              "1  tidak_diketahui  tinggi  tidak_ada      15-35  tinggi\n",
              "2  tidak_diketahui  rendah  tidak_ada      15-35  rendah\n",
              "3            buruk  rendah  tidak_ada       0-15  tinggi\n",
              "4  tidak_diketahui  rendah        ada        >35  rendah"
            ],
            "text/html": [
              "\n",
              "  <div id=\"df-f0cb4a56-4757-4a75-bac6-e5528fa6cc91\">\n",
              "    <div class=\"colab-df-container\">\n",
              "      <div>\n",
              "<style scoped>\n",
              "    .dataframe tbody tr th:only-of-type {\n",
              "        vertical-align: middle;\n",
              "    }\n",
              "\n",
              "    .dataframe tbody tr th {\n",
              "        vertical-align: top;\n",
              "    }\n",
              "\n",
              "    .dataframe thead th {\n",
              "        text-align: right;\n",
              "    }\n",
              "</style>\n",
              "<table border=\"1\" class=\"dataframe\">\n",
              "  <thead>\n",
              "    <tr style=\"text-align: right;\">\n",
              "      <th></th>\n",
              "      <th>Catatan_kredit</th>\n",
              "      <th>Utang</th>\n",
              "      <th>Jaminan</th>\n",
              "      <th>Pendapatan</th>\n",
              "      <th>Risiko</th>\n",
              "    </tr>\n",
              "  </thead>\n",
              "  <tbody>\n",
              "    <tr>\n",
              "      <th>0</th>\n",
              "      <td>buruk</td>\n",
              "      <td>rendah</td>\n",
              "      <td>tidak_ada</td>\n",
              "      <td>0-15</td>\n",
              "      <td>tinggi</td>\n",
              "    </tr>\n",
              "    <tr>\n",
              "      <th>1</th>\n",
              "      <td>tidak_diketahui</td>\n",
              "      <td>tinggi</td>\n",
              "      <td>tidak_ada</td>\n",
              "      <td>15-35</td>\n",
              "      <td>tinggi</td>\n",
              "    </tr>\n",
              "    <tr>\n",
              "      <th>2</th>\n",
              "      <td>tidak_diketahui</td>\n",
              "      <td>rendah</td>\n",
              "      <td>tidak_ada</td>\n",
              "      <td>15-35</td>\n",
              "      <td>rendah</td>\n",
              "    </tr>\n",
              "    <tr>\n",
              "      <th>3</th>\n",
              "      <td>buruk</td>\n",
              "      <td>rendah</td>\n",
              "      <td>tidak_ada</td>\n",
              "      <td>0-15</td>\n",
              "      <td>tinggi</td>\n",
              "    </tr>\n",
              "    <tr>\n",
              "      <th>4</th>\n",
              "      <td>tidak_diketahui</td>\n",
              "      <td>rendah</td>\n",
              "      <td>ada</td>\n",
              "      <td>&gt;35</td>\n",
              "      <td>rendah</td>\n",
              "    </tr>\n",
              "  </tbody>\n",
              "</table>\n",
              "</div>\n",
              "      <button class=\"colab-df-convert\" onclick=\"convertToInteractive('df-f0cb4a56-4757-4a75-bac6-e5528fa6cc91')\"\n",
              "              title=\"Convert this dataframe to an interactive table.\"\n",
              "              style=\"display:none;\">\n",
              "        \n",
              "  <svg xmlns=\"http://www.w3.org/2000/svg\" height=\"24px\"viewBox=\"0 0 24 24\"\n",
              "       width=\"24px\">\n",
              "    <path d=\"M0 0h24v24H0V0z\" fill=\"none\"/>\n",
              "    <path d=\"M18.56 5.44l.94 2.06.94-2.06 2.06-.94-2.06-.94-.94-2.06-.94 2.06-2.06.94zm-11 1L8.5 8.5l.94-2.06 2.06-.94-2.06-.94L8.5 2.5l-.94 2.06-2.06.94zm10 10l.94 2.06.94-2.06 2.06-.94-2.06-.94-.94-2.06-.94 2.06-2.06.94z\"/><path d=\"M17.41 7.96l-1.37-1.37c-.4-.4-.92-.59-1.43-.59-.52 0-1.04.2-1.43.59L10.3 9.45l-7.72 7.72c-.78.78-.78 2.05 0 2.83L4 21.41c.39.39.9.59 1.41.59.51 0 1.02-.2 1.41-.59l7.78-7.78 2.81-2.81c.8-.78.8-2.07 0-2.86zM5.41 20L4 18.59l7.72-7.72 1.47 1.35L5.41 20z\"/>\n",
              "  </svg>\n",
              "      </button>\n",
              "      \n",
              "  <style>\n",
              "    .colab-df-container {\n",
              "      display:flex;\n",
              "      flex-wrap:wrap;\n",
              "      gap: 12px;\n",
              "    }\n",
              "\n",
              "    .colab-df-convert {\n",
              "      background-color: #E8F0FE;\n",
              "      border: none;\n",
              "      border-radius: 50%;\n",
              "      cursor: pointer;\n",
              "      display: none;\n",
              "      fill: #1967D2;\n",
              "      height: 32px;\n",
              "      padding: 0 0 0 0;\n",
              "      width: 32px;\n",
              "    }\n",
              "\n",
              "    .colab-df-convert:hover {\n",
              "      background-color: #E2EBFA;\n",
              "      box-shadow: 0px 1px 2px rgba(60, 64, 67, 0.3), 0px 1px 3px 1px rgba(60, 64, 67, 0.15);\n",
              "      fill: #174EA6;\n",
              "    }\n",
              "\n",
              "    [theme=dark] .colab-df-convert {\n",
              "      background-color: #3B4455;\n",
              "      fill: #D2E3FC;\n",
              "    }\n",
              "\n",
              "    [theme=dark] .colab-df-convert:hover {\n",
              "      background-color: #434B5C;\n",
              "      box-shadow: 0px 1px 3px 1px rgba(0, 0, 0, 0.15);\n",
              "      filter: drop-shadow(0px 1px 2px rgba(0, 0, 0, 0.3));\n",
              "      fill: #FFFFFF;\n",
              "    }\n",
              "  </style>\n",
              "\n",
              "      <script>\n",
              "        const buttonEl =\n",
              "          document.querySelector('#df-f0cb4a56-4757-4a75-bac6-e5528fa6cc91 button.colab-df-convert');\n",
              "        buttonEl.style.display =\n",
              "          google.colab.kernel.accessAllowed ? 'block' : 'none';\n",
              "\n",
              "        async function convertToInteractive(key) {\n",
              "          const element = document.querySelector('#df-f0cb4a56-4757-4a75-bac6-e5528fa6cc91');\n",
              "          const dataTable =\n",
              "            await google.colab.kernel.invokeFunction('convertToInteractive',\n",
              "                                                     [key], {});\n",
              "          if (!dataTable) return;\n",
              "\n",
              "          const docLinkHtml = 'Like what you see? Visit the ' +\n",
              "            '<a target=\"_blank\" href=https://colab.research.google.com/notebooks/data_table.ipynb>data table notebook</a>'\n",
              "            + ' to learn more about interactive tables.';\n",
              "          element.innerHTML = '';\n",
              "          dataTable['output_type'] = 'display_data';\n",
              "          await google.colab.output.renderOutput(dataTable, element);\n",
              "          const docLink = document.createElement('div');\n",
              "          docLink.innerHTML = docLinkHtml;\n",
              "          element.appendChild(docLink);\n",
              "        }\n",
              "      </script>\n",
              "    </div>\n",
              "  </div>\n",
              "  "
            ]
          },
          "metadata": {},
          "execution_count": 115
        }
      ]
    },
    {
      "cell_type": "code",
      "source": [
        "df.dtypes"
      ],
      "metadata": {
        "colab": {
          "base_uri": "https://localhost:8080/"
        },
        "id": "7Somm5_hxGml",
        "outputId": "9b7cb47f-1a95-4c55-8edc-54221da2b979"
      },
      "execution_count": 116,
      "outputs": [
        {
          "output_type": "execute_result",
          "data": {
            "text/plain": [
              "Catatan_kredit    object\n",
              "Utang             object\n",
              "Jaminan           object\n",
              "Pendapatan        object\n",
              "Risiko            object\n",
              "dtype: object"
            ]
          },
          "metadata": {},
          "execution_count": 116
        }
      ]
    },
    {
      "cell_type": "code",
      "source": [
        "df.isna()\n",
        "df.isnull().sum()"
      ],
      "metadata": {
        "colab": {
          "base_uri": "https://localhost:8080/"
        },
        "id": "c1dgqWPoxLNc",
        "outputId": "6e4659a5-506e-4d10-9db4-a5bb8a793a19"
      },
      "execution_count": 117,
      "outputs": [
        {
          "output_type": "execute_result",
          "data": {
            "text/plain": [
              "Catatan_kredit    0\n",
              "Utang             0\n",
              "Jaminan           0\n",
              "Pendapatan        0\n",
              "Risiko            0\n",
              "dtype: int64"
            ]
          },
          "metadata": {},
          "execution_count": 117
        }
      ]
    },
    {
      "cell_type": "code",
      "source": [
        "col_names = ['Catatan_kredit', 'Utang', 'Jaminan', 'Pendapatan','Risiko']\n",
        "for col in col_names:\n",
        "  print(df[col].value_counts())\n"
      ],
      "metadata": {
        "colab": {
          "base_uri": "https://localhost:8080/"
        },
        "id": "40NsarYTxS7a",
        "outputId": "873c5cd2-2fec-4f2c-be15-33bb40715270"
      },
      "execution_count": 118,
      "outputs": [
        {
          "output_type": "stream",
          "name": "stdout",
          "text": [
            "tidak_diketahui    5\n",
            "baik               5\n",
            "buruk              4\n",
            "Name: Catatan_kredit, dtype: int64\n",
            "rendah    7\n",
            "tinggi    7\n",
            "Name: Utang, dtype: int64\n",
            "tidak_ada    11\n",
            "ada           3\n",
            "Name: Jaminan, dtype: int64\n",
            ">35      6\n",
            "0-15     4\n",
            "15-35    4\n",
            "Name: Pendapatan, dtype: int64\n",
            "tinggi    8\n",
            "rendah    6\n",
            "Name: Risiko, dtype: int64\n"
          ]
        }
      ]
    },
    {
      "cell_type": "code",
      "source": [
        "from sklearn import preprocessing\n",
        "le_ck = preprocessing.LabelEncoder()\n",
        "le_ck.fit(['buruk', 'baik', 'tidak_diketahui' ])\n",
        "df['Catatan_kredit'] = le_ck.transform(df['Catatan_kredit'])"
      ],
      "metadata": {
        "id": "kkMWgZOyx4IO"
      },
      "execution_count": 119,
      "outputs": []
    },
    {
      "cell_type": "code",
      "source": [
        "le_ut = preprocessing.LabelEncoder()\n",
        "le_ut.fit(['rendah', 'tinggi'])\n",
        "df['Utang'] = le_ut.transform(df['Utang'])"
      ],
      "metadata": {
        "id": "0I5oteBvylcq"
      },
      "execution_count": 120,
      "outputs": []
    },
    {
      "cell_type": "code",
      "source": [
        "le_ja = preprocessing.LabelEncoder()\n",
        "le_ja.fit(['tidak_ada', 'ada'])\n",
        "df['Jaminan'] = le_ja.transform(df['Jaminan'])"
      ],
      "metadata": {
        "id": "ZcZPUoQrymSJ"
      },
      "execution_count": 121,
      "outputs": []
    },
    {
      "cell_type": "code",
      "source": [
        "le_pe = preprocessing.LabelEncoder()\n",
        "le_pe.fit(['0-15', '15-35', '>35'])\n",
        "df['Pendapatan'] = le_pe.transform(df['Pendapatan'])"
      ],
      "metadata": {
        "id": "pALyKxKz042M"
      },
      "execution_count": 122,
      "outputs": []
    },
    {
      "cell_type": "code",
      "source": [
        "df"
      ],
      "metadata": {
        "colab": {
          "base_uri": "https://localhost:8080/",
          "height": 489
        },
        "id": "zYZlWkpI0-XD",
        "outputId": "86f91e29-54e2-476b-b41d-83b3c01531ce"
      },
      "execution_count": 123,
      "outputs": [
        {
          "output_type": "execute_result",
          "data": {
            "text/plain": [
              "    Catatan_kredit  Utang  Jaminan  Pendapatan  Risiko\n",
              "0                1      0        1           0  tinggi\n",
              "1                2      1        1           1  tinggi\n",
              "2                2      0        1           1  rendah\n",
              "3                1      0        1           0  tinggi\n",
              "4                2      0        0           2  rendah\n",
              "5                2      0        1           2  rendah\n",
              "6                2      1        1           0  tinggi\n",
              "7                1      0        0           2  tinggi\n",
              "8                0      0        1           2  rendah\n",
              "9                0      1        0           2  rendah\n",
              "10               0      1        1           0  tinggi\n",
              "11               0      1        1           1  tinggi\n",
              "12               0      1        1           2  rendah\n",
              "13               1      1        1           1  tinggi"
            ],
            "text/html": [
              "\n",
              "  <div id=\"df-ce42adc5-ce08-4add-bf14-5d266e839d79\">\n",
              "    <div class=\"colab-df-container\">\n",
              "      <div>\n",
              "<style scoped>\n",
              "    .dataframe tbody tr th:only-of-type {\n",
              "        vertical-align: middle;\n",
              "    }\n",
              "\n",
              "    .dataframe tbody tr th {\n",
              "        vertical-align: top;\n",
              "    }\n",
              "\n",
              "    .dataframe thead th {\n",
              "        text-align: right;\n",
              "    }\n",
              "</style>\n",
              "<table border=\"1\" class=\"dataframe\">\n",
              "  <thead>\n",
              "    <tr style=\"text-align: right;\">\n",
              "      <th></th>\n",
              "      <th>Catatan_kredit</th>\n",
              "      <th>Utang</th>\n",
              "      <th>Jaminan</th>\n",
              "      <th>Pendapatan</th>\n",
              "      <th>Risiko</th>\n",
              "    </tr>\n",
              "  </thead>\n",
              "  <tbody>\n",
              "    <tr>\n",
              "      <th>0</th>\n",
              "      <td>1</td>\n",
              "      <td>0</td>\n",
              "      <td>1</td>\n",
              "      <td>0</td>\n",
              "      <td>tinggi</td>\n",
              "    </tr>\n",
              "    <tr>\n",
              "      <th>1</th>\n",
              "      <td>2</td>\n",
              "      <td>1</td>\n",
              "      <td>1</td>\n",
              "      <td>1</td>\n",
              "      <td>tinggi</td>\n",
              "    </tr>\n",
              "    <tr>\n",
              "      <th>2</th>\n",
              "      <td>2</td>\n",
              "      <td>0</td>\n",
              "      <td>1</td>\n",
              "      <td>1</td>\n",
              "      <td>rendah</td>\n",
              "    </tr>\n",
              "    <tr>\n",
              "      <th>3</th>\n",
              "      <td>1</td>\n",
              "      <td>0</td>\n",
              "      <td>1</td>\n",
              "      <td>0</td>\n",
              "      <td>tinggi</td>\n",
              "    </tr>\n",
              "    <tr>\n",
              "      <th>4</th>\n",
              "      <td>2</td>\n",
              "      <td>0</td>\n",
              "      <td>0</td>\n",
              "      <td>2</td>\n",
              "      <td>rendah</td>\n",
              "    </tr>\n",
              "    <tr>\n",
              "      <th>5</th>\n",
              "      <td>2</td>\n",
              "      <td>0</td>\n",
              "      <td>1</td>\n",
              "      <td>2</td>\n",
              "      <td>rendah</td>\n",
              "    </tr>\n",
              "    <tr>\n",
              "      <th>6</th>\n",
              "      <td>2</td>\n",
              "      <td>1</td>\n",
              "      <td>1</td>\n",
              "      <td>0</td>\n",
              "      <td>tinggi</td>\n",
              "    </tr>\n",
              "    <tr>\n",
              "      <th>7</th>\n",
              "      <td>1</td>\n",
              "      <td>0</td>\n",
              "      <td>0</td>\n",
              "      <td>2</td>\n",
              "      <td>tinggi</td>\n",
              "    </tr>\n",
              "    <tr>\n",
              "      <th>8</th>\n",
              "      <td>0</td>\n",
              "      <td>0</td>\n",
              "      <td>1</td>\n",
              "      <td>2</td>\n",
              "      <td>rendah</td>\n",
              "    </tr>\n",
              "    <tr>\n",
              "      <th>9</th>\n",
              "      <td>0</td>\n",
              "      <td>1</td>\n",
              "      <td>0</td>\n",
              "      <td>2</td>\n",
              "      <td>rendah</td>\n",
              "    </tr>\n",
              "    <tr>\n",
              "      <th>10</th>\n",
              "      <td>0</td>\n",
              "      <td>1</td>\n",
              "      <td>1</td>\n",
              "      <td>0</td>\n",
              "      <td>tinggi</td>\n",
              "    </tr>\n",
              "    <tr>\n",
              "      <th>11</th>\n",
              "      <td>0</td>\n",
              "      <td>1</td>\n",
              "      <td>1</td>\n",
              "      <td>1</td>\n",
              "      <td>tinggi</td>\n",
              "    </tr>\n",
              "    <tr>\n",
              "      <th>12</th>\n",
              "      <td>0</td>\n",
              "      <td>1</td>\n",
              "      <td>1</td>\n",
              "      <td>2</td>\n",
              "      <td>rendah</td>\n",
              "    </tr>\n",
              "    <tr>\n",
              "      <th>13</th>\n",
              "      <td>1</td>\n",
              "      <td>1</td>\n",
              "      <td>1</td>\n",
              "      <td>1</td>\n",
              "      <td>tinggi</td>\n",
              "    </tr>\n",
              "  </tbody>\n",
              "</table>\n",
              "</div>\n",
              "      <button class=\"colab-df-convert\" onclick=\"convertToInteractive('df-ce42adc5-ce08-4add-bf14-5d266e839d79')\"\n",
              "              title=\"Convert this dataframe to an interactive table.\"\n",
              "              style=\"display:none;\">\n",
              "        \n",
              "  <svg xmlns=\"http://www.w3.org/2000/svg\" height=\"24px\"viewBox=\"0 0 24 24\"\n",
              "       width=\"24px\">\n",
              "    <path d=\"M0 0h24v24H0V0z\" fill=\"none\"/>\n",
              "    <path d=\"M18.56 5.44l.94 2.06.94-2.06 2.06-.94-2.06-.94-.94-2.06-.94 2.06-2.06.94zm-11 1L8.5 8.5l.94-2.06 2.06-.94-2.06-.94L8.5 2.5l-.94 2.06-2.06.94zm10 10l.94 2.06.94-2.06 2.06-.94-2.06-.94-.94-2.06-.94 2.06-2.06.94z\"/><path d=\"M17.41 7.96l-1.37-1.37c-.4-.4-.92-.59-1.43-.59-.52 0-1.04.2-1.43.59L10.3 9.45l-7.72 7.72c-.78.78-.78 2.05 0 2.83L4 21.41c.39.39.9.59 1.41.59.51 0 1.02-.2 1.41-.59l7.78-7.78 2.81-2.81c.8-.78.8-2.07 0-2.86zM5.41 20L4 18.59l7.72-7.72 1.47 1.35L5.41 20z\"/>\n",
              "  </svg>\n",
              "      </button>\n",
              "      \n",
              "  <style>\n",
              "    .colab-df-container {\n",
              "      display:flex;\n",
              "      flex-wrap:wrap;\n",
              "      gap: 12px;\n",
              "    }\n",
              "\n",
              "    .colab-df-convert {\n",
              "      background-color: #E8F0FE;\n",
              "      border: none;\n",
              "      border-radius: 50%;\n",
              "      cursor: pointer;\n",
              "      display: none;\n",
              "      fill: #1967D2;\n",
              "      height: 32px;\n",
              "      padding: 0 0 0 0;\n",
              "      width: 32px;\n",
              "    }\n",
              "\n",
              "    .colab-df-convert:hover {\n",
              "      background-color: #E2EBFA;\n",
              "      box-shadow: 0px 1px 2px rgba(60, 64, 67, 0.3), 0px 1px 3px 1px rgba(60, 64, 67, 0.15);\n",
              "      fill: #174EA6;\n",
              "    }\n",
              "\n",
              "    [theme=dark] .colab-df-convert {\n",
              "      background-color: #3B4455;\n",
              "      fill: #D2E3FC;\n",
              "    }\n",
              "\n",
              "    [theme=dark] .colab-df-convert:hover {\n",
              "      background-color: #434B5C;\n",
              "      box-shadow: 0px 1px 3px 1px rgba(0, 0, 0, 0.15);\n",
              "      filter: drop-shadow(0px 1px 2px rgba(0, 0, 0, 0.3));\n",
              "      fill: #FFFFFF;\n",
              "    }\n",
              "  </style>\n",
              "\n",
              "      <script>\n",
              "        const buttonEl =\n",
              "          document.querySelector('#df-ce42adc5-ce08-4add-bf14-5d266e839d79 button.colab-df-convert');\n",
              "        buttonEl.style.display =\n",
              "          google.colab.kernel.accessAllowed ? 'block' : 'none';\n",
              "\n",
              "        async function convertToInteractive(key) {\n",
              "          const element = document.querySelector('#df-ce42adc5-ce08-4add-bf14-5d266e839d79');\n",
              "          const dataTable =\n",
              "            await google.colab.kernel.invokeFunction('convertToInteractive',\n",
              "                                                     [key], {});\n",
              "          if (!dataTable) return;\n",
              "\n",
              "          const docLinkHtml = 'Like what you see? Visit the ' +\n",
              "            '<a target=\"_blank\" href=https://colab.research.google.com/notebooks/data_table.ipynb>data table notebook</a>'\n",
              "            + ' to learn more about interactive tables.';\n",
              "          element.innerHTML = '';\n",
              "          dataTable['output_type'] = 'display_data';\n",
              "          await google.colab.output.renderOutput(dataTable, element);\n",
              "          const docLink = document.createElement('div');\n",
              "          docLink.innerHTML = docLinkHtml;\n",
              "          element.appendChild(docLink);\n",
              "        }\n",
              "      </script>\n",
              "    </div>\n",
              "  </div>\n",
              "  "
            ]
          },
          "metadata": {},
          "execution_count": 123
        }
      ]
    },
    {
      "cell_type": "code",
      "source": [
        "x = df.drop(['Risiko'], axis=1)\n",
        "y = df['Risiko']"
      ],
      "metadata": {
        "id": "HK1fXlvv1Snz"
      },
      "execution_count": 124,
      "outputs": []
    },
    {
      "cell_type": "code",
      "source": [
        "from sklearn.model_selection import train_test_split\n",
        "x_train, x_test, y_train, y_test = train_test_split(x, y, test_size = 0.2, random_state = 42)\n",
        "x_train.shape, x_test.shape"
      ],
      "metadata": {
        "colab": {
          "base_uri": "https://localhost:8080/"
        },
        "id": "F1KXMTm01kHy",
        "outputId": "6b803d8f-8a02-441f-f2b3-4da5450ba736"
      },
      "execution_count": 125,
      "outputs": [
        {
          "output_type": "execute_result",
          "data": {
            "text/plain": [
              "((11, 4), (3, 4))"
            ]
          },
          "metadata": {},
          "execution_count": 125
        }
      ]
    },
    {
      "cell_type": "code",
      "source": [
        "from sklearn.tree import DecisionTreeClassifier\n",
        "dtree =  DecisionTreeClassifier(criterion = 'entropy')\n",
        "dtree.fit(x_train, y_train)"
      ],
      "metadata": {
        "colab": {
          "base_uri": "https://localhost:8080/"
        },
        "id": "vDj-of4j2FNU",
        "outputId": "875bd12e-52ac-42f5-f64b-3a1c3ae96f87"
      },
      "execution_count": 126,
      "outputs": [
        {
          "output_type": "execute_result",
          "data": {
            "text/plain": [
              "DecisionTreeClassifier(criterion='entropy')"
            ]
          },
          "metadata": {},
          "execution_count": 126
        }
      ]
    },
    {
      "cell_type": "code",
      "source": [
        "predTree_train = dtree.predict(x_train)\n",
        "hasil_train = pd.DataFrame ({'Predicted_risk' : predTree_train, 'Actual_risk':y_train})\n",
        "print(hasil_train)"
      ],
      "metadata": {
        "colab": {
          "base_uri": "https://localhost:8080/"
        },
        "id": "RA_kni0Y7HkV",
        "outputId": "b8f69a2a-75fe-4665-c165-a1bb387d2626"
      },
      "execution_count": 128,
      "outputs": [
        {
          "output_type": "stream",
          "name": "stdout",
          "text": [
            "   Predicted_risk Actual_risk\n",
            "12         rendah      rendah\n",
            "5          rendah      rendah\n",
            "8          rendah      rendah\n",
            "2          rendah      rendah\n",
            "1          tinggi      tinggi\n",
            "13         tinggi      tinggi\n",
            "4          rendah      rendah\n",
            "7          tinggi      tinggi\n",
            "10         tinggi      tinggi\n",
            "3          tinggi      tinggi\n",
            "6          tinggi      tinggi\n"
          ]
        }
      ]
    },
    {
      "cell_type": "code",
      "source": [
        "predTree_test = dtree.predict(x_test)\n",
        "hasil_test = pd.DataFrame ({'Predicted_risk' : predTree_test, 'Actual_risk':y_test})\n",
        "print(hasil_test)"
      ],
      "metadata": {
        "colab": {
          "base_uri": "https://localhost:8080/"
        },
        "id": "pdcAbn4m9fGX",
        "outputId": "4b884972-38af-4816-de11-2887e1999758"
      },
      "execution_count": 133,
      "outputs": [
        {
          "output_type": "stream",
          "name": "stdout",
          "text": [
            "   Predicted_risk Actual_risk\n",
            "9          tinggi      rendah\n",
            "11         tinggi      tinggi\n",
            "0          tinggi      tinggi\n"
          ]
        }
      ]
    },
    {
      "cell_type": "code",
      "source": [
        "from sklearn import metrics\n",
        "from sklearn.metrics import confusion_matrix\n",
        "cnfMatrix_train=confusion_matrix(y_train,predTree_train)\n",
        "print('Decision trees accuracy:', metrics.accuracy_score(y_train,predTree_train))\n",
        "cnfMatrix_train"
      ],
      "metadata": {
        "colab": {
          "base_uri": "https://localhost:8080/"
        },
        "id": "476XrnXT8CFC",
        "outputId": "dfadf816-26fa-4116-df2c-58e84936b7e2"
      },
      "execution_count": 130,
      "outputs": [
        {
          "output_type": "stream",
          "name": "stdout",
          "text": [
            "Decision trees accuracy: 1.0\n"
          ]
        },
        {
          "output_type": "execute_result",
          "data": {
            "text/plain": [
              "array([[5, 0],\n",
              "       [0, 6]])"
            ]
          },
          "metadata": {},
          "execution_count": 130
        }
      ]
    },
    {
      "cell_type": "code",
      "source": [
        "cnfMatrix_test=confusion_matrix(y_test,predTree_test)\n",
        "print('Decision trees accuracy:', metrics.accuracy_score(y_test,predTree_test))\n",
        "cnfMatrix_test"
      ],
      "metadata": {
        "colab": {
          "base_uri": "https://localhost:8080/"
        },
        "id": "Vlx9dol088N-",
        "outputId": "dac7a6bb-26f5-45d7-a419-1cea2569d851"
      },
      "execution_count": 134,
      "outputs": [
        {
          "output_type": "stream",
          "name": "stdout",
          "text": [
            "Decision trees accuracy: 0.6666666666666666\n"
          ]
        },
        {
          "output_type": "execute_result",
          "data": {
            "text/plain": [
              "array([[0, 1],\n",
              "       [0, 2]])"
            ]
          },
          "metadata": {},
          "execution_count": 134
        }
      ]
    },
    {
      "cell_type": "code",
      "source": [
        "from sklearn.metrics import classification_report\n",
        "print(classification_report(y_train, predTree_train))"
      ],
      "metadata": {
        "colab": {
          "base_uri": "https://localhost:8080/"
        },
        "id": "2lta4k-39jWJ",
        "outputId": "c482491b-23fb-4b8a-f60e-54f78695817a"
      },
      "execution_count": 135,
      "outputs": [
        {
          "output_type": "stream",
          "name": "stdout",
          "text": [
            "              precision    recall  f1-score   support\n",
            "\n",
            "      rendah       1.00      1.00      1.00         5\n",
            "      tinggi       1.00      1.00      1.00         6\n",
            "\n",
            "    accuracy                           1.00        11\n",
            "   macro avg       1.00      1.00      1.00        11\n",
            "weighted avg       1.00      1.00      1.00        11\n",
            "\n"
          ]
        }
      ]
    },
    {
      "cell_type": "code",
      "source": [
        "print(classification_report(y_test, predTree_test))"
      ],
      "metadata": {
        "colab": {
          "base_uri": "https://localhost:8080/"
        },
        "id": "ZLNqQddZ91f-",
        "outputId": "72972a91-bb21-437a-e5f7-1ac76d9b287e"
      },
      "execution_count": 136,
      "outputs": [
        {
          "output_type": "stream",
          "name": "stdout",
          "text": [
            "              precision    recall  f1-score   support\n",
            "\n",
            "      rendah       0.00      0.00      0.00         1\n",
            "      tinggi       0.67      1.00      0.80         2\n",
            "\n",
            "    accuracy                           0.67         3\n",
            "   macro avg       0.33      0.50      0.40         3\n",
            "weighted avg       0.44      0.67      0.53         3\n",
            "\n"
          ]
        },
        {
          "output_type": "stream",
          "name": "stderr",
          "text": [
            "/usr/local/lib/python3.8/dist-packages/sklearn/metrics/_classification.py:1318: UndefinedMetricWarning: Precision and F-score are ill-defined and being set to 0.0 in labels with no predicted samples. Use `zero_division` parameter to control this behavior.\n",
            "  _warn_prf(average, modifier, msg_start, len(result))\n",
            "/usr/local/lib/python3.8/dist-packages/sklearn/metrics/_classification.py:1318: UndefinedMetricWarning: Precision and F-score are ill-defined and being set to 0.0 in labels with no predicted samples. Use `zero_division` parameter to control this behavior.\n",
            "  _warn_prf(average, modifier, msg_start, len(result))\n",
            "/usr/local/lib/python3.8/dist-packages/sklearn/metrics/_classification.py:1318: UndefinedMetricWarning: Precision and F-score are ill-defined and being set to 0.0 in labels with no predicted samples. Use `zero_division` parameter to control this behavior.\n",
            "  _warn_prf(average, modifier, msg_start, len(result))\n"
          ]
        }
      ]
    },
    {
      "cell_type": "code",
      "source": [
        "import graphviz\n",
        "from graphviz import Source\n",
        "from sklearn import tree\n",
        "dot_data = tree.export_graphviz(dtree, out_file=None, feature_names=x_train.columns,\n",
        "                                class_names=np.unique(y_train),filled= True, rounded = True,\n",
        "                                special_characters = True)\n",
        "graph = graphviz.Source(dot_data)\n",
        "graph"
      ],
      "metadata": {
        "colab": {
          "base_uri": "https://localhost:8080/",
          "height": 598
        },
        "id": "VvbRjPiH95GK",
        "outputId": "4bf6d872-df13-4b29-e4fc-5bd9ef3fa290"
      },
      "execution_count": 142,
      "outputs": [
        {
          "output_type": "execute_result",
          "data": {
            "text/plain": [
              "<graphviz.files.Source at 0x7ff44896c4f0>"
            ],
            "image/svg+xml": "<?xml version=\"1.0\" encoding=\"UTF-8\" standalone=\"no\"?>\n<!DOCTYPE svg PUBLIC \"-//W3C//DTD SVG 1.1//EN\"\n \"http://www.w3.org/Graphics/SVG/1.1/DTD/svg11.dtd\">\n<!-- Generated by graphviz version 2.40.1 (20161225.0304)\n -->\n<!-- Title: Tree Pages: 1 -->\n<svg width=\"591pt\" height=\"433pt\"\n viewBox=\"0.00 0.00 590.50 433.00\" xmlns=\"http://www.w3.org/2000/svg\" xmlns:xlink=\"http://www.w3.org/1999/xlink\">\n<g id=\"graph0\" class=\"graph\" transform=\"scale(1 1) rotate(0) translate(4 429)\">\n<title>Tree</title>\n<polygon fill=\"#ffffff\" stroke=\"transparent\" points=\"-4,4 -4,-429 586.5,-429 586.5,4 -4,4\"/>\n<!-- 0 -->\n<g id=\"node1\" class=\"node\">\n<title>0</title>\n<path fill=\"#deeffb\" stroke=\"#000000\" d=\"M362,-425C362,-425 255,-425 255,-425 249,-425 243,-419 243,-413 243,-413 243,-354 243,-354 243,-348 249,-342 255,-342 255,-342 362,-342 362,-342 368,-342 374,-348 374,-354 374,-354 374,-413 374,-413 374,-419 368,-425 362,-425\"/>\n<text text-anchor=\"start\" x=\"251\" y=\"-409.8\" font-family=\"Helvetica,sans-Serif\" font-size=\"14.00\" fill=\"#000000\">Pendapatan ≤ 1.5</text>\n<text text-anchor=\"start\" x=\"257.5\" y=\"-394.8\" font-family=\"Helvetica,sans-Serif\" font-size=\"14.00\" fill=\"#000000\">entropy = 0.994</text>\n<text text-anchor=\"start\" x=\"264.5\" y=\"-379.8\" font-family=\"Helvetica,sans-Serif\" font-size=\"14.00\" fill=\"#000000\">samples = 11</text>\n<text text-anchor=\"start\" x=\"267\" y=\"-364.8\" font-family=\"Helvetica,sans-Serif\" font-size=\"14.00\" fill=\"#000000\">value = [5, 6]</text>\n<text text-anchor=\"start\" x=\"266\" y=\"-349.8\" font-family=\"Helvetica,sans-Serif\" font-size=\"14.00\" fill=\"#000000\">class = tinggi</text>\n</g>\n<!-- 1 -->\n<g id=\"node2\" class=\"node\">\n<title>1</title>\n<path fill=\"#61b1ea\" stroke=\"#000000\" d=\"M280.5,-306C280.5,-306 194.5,-306 194.5,-306 188.5,-306 182.5,-300 182.5,-294 182.5,-294 182.5,-235 182.5,-235 182.5,-229 188.5,-223 194.5,-223 194.5,-223 280.5,-223 280.5,-223 286.5,-223 292.5,-229 292.5,-235 292.5,-235 292.5,-294 292.5,-294 292.5,-300 286.5,-306 280.5,-306\"/>\n<text text-anchor=\"start\" x=\"200\" y=\"-290.8\" font-family=\"Helvetica,sans-Serif\" font-size=\"14.00\" fill=\"#000000\">Utang ≤ 0.5</text>\n<text text-anchor=\"start\" x=\"190.5\" y=\"-275.8\" font-family=\"Helvetica,sans-Serif\" font-size=\"14.00\" fill=\"#000000\">entropy = 0.65</text>\n<text text-anchor=\"start\" x=\"198\" y=\"-260.8\" font-family=\"Helvetica,sans-Serif\" font-size=\"14.00\" fill=\"#000000\">samples = 6</text>\n<text text-anchor=\"start\" x=\"196\" y=\"-245.8\" font-family=\"Helvetica,sans-Serif\" font-size=\"14.00\" fill=\"#000000\">value = [1, 5]</text>\n<text text-anchor=\"start\" x=\"195\" y=\"-230.8\" font-family=\"Helvetica,sans-Serif\" font-size=\"14.00\" fill=\"#000000\">class = tinggi</text>\n</g>\n<!-- 0&#45;&gt;1 -->\n<g id=\"edge1\" class=\"edge\">\n<title>0&#45;&gt;1</title>\n<path fill=\"none\" stroke=\"#000000\" d=\"M283.6676,-341.8796C278.5091,-333.2335 273.0192,-324.0322 267.6924,-315.1042\"/>\n<polygon fill=\"#000000\" stroke=\"#000000\" points=\"270.5678,-313.0924 262.4383,-306.2981 264.5564,-316.679 270.5678,-313.0924\"/>\n<text text-anchor=\"middle\" x=\"256.3149\" y=\"-326.8366\" font-family=\"Helvetica,sans-Serif\" font-size=\"14.00\" fill=\"#000000\">True</text>\n</g>\n<!-- 6 -->\n<g id=\"node7\" class=\"node\">\n<title>6</title>\n<path fill=\"#eca06a\" stroke=\"#000000\" d=\"M426.5,-306C426.5,-306 332.5,-306 332.5,-306 326.5,-306 320.5,-300 320.5,-294 320.5,-294 320.5,-235 320.5,-235 320.5,-229 326.5,-223 332.5,-223 332.5,-223 426.5,-223 426.5,-223 432.5,-223 438.5,-229 438.5,-235 438.5,-235 438.5,-294 438.5,-294 438.5,-300 432.5,-306 426.5,-306\"/>\n<text text-anchor=\"start\" x=\"334\" y=\"-290.8\" font-family=\"Helvetica,sans-Serif\" font-size=\"14.00\" fill=\"#000000\">Jaminan ≤ 0.5</text>\n<text text-anchor=\"start\" x=\"328.5\" y=\"-275.8\" font-family=\"Helvetica,sans-Serif\" font-size=\"14.00\" fill=\"#000000\">entropy = 0.722</text>\n<text text-anchor=\"start\" x=\"340\" y=\"-260.8\" font-family=\"Helvetica,sans-Serif\" font-size=\"14.00\" fill=\"#000000\">samples = 5</text>\n<text text-anchor=\"start\" x=\"338\" y=\"-245.8\" font-family=\"Helvetica,sans-Serif\" font-size=\"14.00\" fill=\"#000000\">value = [4, 1]</text>\n<text text-anchor=\"start\" x=\"331.5\" y=\"-230.8\" font-family=\"Helvetica,sans-Serif\" font-size=\"14.00\" fill=\"#000000\">class = rendah</text>\n</g>\n<!-- 0&#45;&gt;6 -->\n<g id=\"edge6\" class=\"edge\">\n<title>0&#45;&gt;6</title>\n<path fill=\"none\" stroke=\"#000000\" d=\"M333.3324,-341.8796C338.4909,-333.2335 343.9808,-324.0322 349.3076,-315.1042\"/>\n<polygon fill=\"#000000\" stroke=\"#000000\" points=\"352.4436,-316.679 354.5617,-306.2981 346.4322,-313.0924 352.4436,-316.679\"/>\n<text text-anchor=\"middle\" x=\"360.6851\" y=\"-326.8366\" font-family=\"Helvetica,sans-Serif\" font-size=\"14.00\" fill=\"#000000\">False</text>\n</g>\n<!-- 2 -->\n<g id=\"node3\" class=\"node\">\n<title>2</title>\n<path fill=\"#ffffff\" stroke=\"#000000\" d=\"M156.5,-187C156.5,-187 34.5,-187 34.5,-187 28.5,-187 22.5,-181 22.5,-175 22.5,-175 22.5,-116 22.5,-116 22.5,-110 28.5,-104 34.5,-104 34.5,-104 156.5,-104 156.5,-104 162.5,-104 168.5,-110 168.5,-116 168.5,-116 168.5,-175 168.5,-175 168.5,-181 162.5,-187 156.5,-187\"/>\n<text text-anchor=\"start\" x=\"30.5\" y=\"-171.8\" font-family=\"Helvetica,sans-Serif\" font-size=\"14.00\" fill=\"#000000\">Catatan_kredit ≤ 1.5</text>\n<text text-anchor=\"start\" x=\"53\" y=\"-156.8\" font-family=\"Helvetica,sans-Serif\" font-size=\"14.00\" fill=\"#000000\">entropy = 1.0</text>\n<text text-anchor=\"start\" x=\"56\" y=\"-141.8\" font-family=\"Helvetica,sans-Serif\" font-size=\"14.00\" fill=\"#000000\">samples = 2</text>\n<text text-anchor=\"start\" x=\"54\" y=\"-126.8\" font-family=\"Helvetica,sans-Serif\" font-size=\"14.00\" fill=\"#000000\">value = [1, 1]</text>\n<text text-anchor=\"start\" x=\"47.5\" y=\"-111.8\" font-family=\"Helvetica,sans-Serif\" font-size=\"14.00\" fill=\"#000000\">class = rendah</text>\n</g>\n<!-- 1&#45;&gt;2 -->\n<g id=\"edge2\" class=\"edge\">\n<title>1&#45;&gt;2</title>\n<path fill=\"none\" stroke=\"#000000\" d=\"M187.8353,-222.8796C176.6584,-213.513 164.7038,-203.4948 153.2288,-193.8784\"/>\n<polygon fill=\"#000000\" stroke=\"#000000\" points=\"155.2893,-191.0386 145.3767,-187.2981 150.7931,-196.4037 155.2893,-191.0386\"/>\n</g>\n<!-- 5 -->\n<g id=\"node6\" class=\"node\">\n<title>5</title>\n<path fill=\"#399de5\" stroke=\"#000000\" d=\"M276,-179.5C276,-179.5 199,-179.5 199,-179.5 193,-179.5 187,-173.5 187,-167.5 187,-167.5 187,-123.5 187,-123.5 187,-117.5 193,-111.5 199,-111.5 199,-111.5 276,-111.5 276,-111.5 282,-111.5 288,-117.5 288,-123.5 288,-123.5 288,-167.5 288,-167.5 288,-173.5 282,-179.5 276,-179.5\"/>\n<text text-anchor=\"start\" x=\"195\" y=\"-164.3\" font-family=\"Helvetica,sans-Serif\" font-size=\"14.00\" fill=\"#000000\">entropy = 0.0</text>\n<text text-anchor=\"start\" x=\"198\" y=\"-149.3\" font-family=\"Helvetica,sans-Serif\" font-size=\"14.00\" fill=\"#000000\">samples = 4</text>\n<text text-anchor=\"start\" x=\"196\" y=\"-134.3\" font-family=\"Helvetica,sans-Serif\" font-size=\"14.00\" fill=\"#000000\">value = [0, 4]</text>\n<text text-anchor=\"start\" x=\"195\" y=\"-119.3\" font-family=\"Helvetica,sans-Serif\" font-size=\"14.00\" fill=\"#000000\">class = tinggi</text>\n</g>\n<!-- 1&#45;&gt;5 -->\n<g id=\"edge5\" class=\"edge\">\n<title>1&#45;&gt;5</title>\n<path fill=\"none\" stroke=\"#000000\" d=\"M237.5,-222.8796C237.5,-212.2134 237.5,-200.7021 237.5,-189.9015\"/>\n<polygon fill=\"#000000\" stroke=\"#000000\" points=\"241.0001,-189.8149 237.5,-179.8149 234.0001,-189.815 241.0001,-189.8149\"/>\n</g>\n<!-- 3 -->\n<g id=\"node4\" class=\"node\">\n<title>3</title>\n<path fill=\"#399de5\" stroke=\"#000000\" d=\"M89,-68C89,-68 12,-68 12,-68 6,-68 0,-62 0,-56 0,-56 0,-12 0,-12 0,-6 6,0 12,0 12,0 89,0 89,0 95,0 101,-6 101,-12 101,-12 101,-56 101,-56 101,-62 95,-68 89,-68\"/>\n<text text-anchor=\"start\" x=\"8\" y=\"-52.8\" font-family=\"Helvetica,sans-Serif\" font-size=\"14.00\" fill=\"#000000\">entropy = 0.0</text>\n<text text-anchor=\"start\" x=\"11\" y=\"-37.8\" font-family=\"Helvetica,sans-Serif\" font-size=\"14.00\" fill=\"#000000\">samples = 1</text>\n<text text-anchor=\"start\" x=\"9\" y=\"-22.8\" font-family=\"Helvetica,sans-Serif\" font-size=\"14.00\" fill=\"#000000\">value = [0, 1]</text>\n<text text-anchor=\"start\" x=\"8\" y=\"-7.8\" font-family=\"Helvetica,sans-Serif\" font-size=\"14.00\" fill=\"#000000\">class = tinggi</text>\n</g>\n<!-- 2&#45;&gt;3 -->\n<g id=\"edge3\" class=\"edge\">\n<title>2&#45;&gt;3</title>\n<path fill=\"none\" stroke=\"#000000\" d=\"M78.7437,-103.9815C75.2941,-95.4342 71.6514,-86.4086 68.1706,-77.7839\"/>\n<polygon fill=\"#000000\" stroke=\"#000000\" points=\"71.3167,-76.227 64.3284,-68.2637 64.8254,-78.8469 71.3167,-76.227\"/>\n</g>\n<!-- 4 -->\n<g id=\"node5\" class=\"node\">\n<title>4</title>\n<path fill=\"#e58139\" stroke=\"#000000\" d=\"M219.5,-68C219.5,-68 131.5,-68 131.5,-68 125.5,-68 119.5,-62 119.5,-56 119.5,-56 119.5,-12 119.5,-12 119.5,-6 125.5,0 131.5,0 131.5,0 219.5,0 219.5,0 225.5,0 231.5,-6 231.5,-12 231.5,-12 231.5,-56 231.5,-56 231.5,-62 225.5,-68 219.5,-68\"/>\n<text text-anchor=\"start\" x=\"133\" y=\"-52.8\" font-family=\"Helvetica,sans-Serif\" font-size=\"14.00\" fill=\"#000000\">entropy = 0.0</text>\n<text text-anchor=\"start\" x=\"136\" y=\"-37.8\" font-family=\"Helvetica,sans-Serif\" font-size=\"14.00\" fill=\"#000000\">samples = 1</text>\n<text text-anchor=\"start\" x=\"134\" y=\"-22.8\" font-family=\"Helvetica,sans-Serif\" font-size=\"14.00\" fill=\"#000000\">value = [1, 0]</text>\n<text text-anchor=\"start\" x=\"127.5\" y=\"-7.8\" font-family=\"Helvetica,sans-Serif\" font-size=\"14.00\" fill=\"#000000\">class = rendah</text>\n</g>\n<!-- 2&#45;&gt;4 -->\n<g id=\"edge4\" class=\"edge\">\n<title>2&#45;&gt;4</title>\n<path fill=\"none\" stroke=\"#000000\" d=\"M125.289,-103.9815C131.7514,-94.9747 138.5948,-85.4367 145.081,-76.3965\"/>\n<polygon fill=\"#000000\" stroke=\"#000000\" points=\"147.9303,-78.4291 150.9162,-68.2637 142.2428,-74.3483 147.9303,-78.4291\"/>\n</g>\n<!-- 7 -->\n<g id=\"node8\" class=\"node\">\n<title>7</title>\n<path fill=\"#ffffff\" stroke=\"#000000\" d=\"M440.5,-187C440.5,-187 318.5,-187 318.5,-187 312.5,-187 306.5,-181 306.5,-175 306.5,-175 306.5,-116 306.5,-116 306.5,-110 312.5,-104 318.5,-104 318.5,-104 440.5,-104 440.5,-104 446.5,-104 452.5,-110 452.5,-116 452.5,-116 452.5,-175 452.5,-175 452.5,-181 446.5,-187 440.5,-187\"/>\n<text text-anchor=\"start\" x=\"314.5\" y=\"-171.8\" font-family=\"Helvetica,sans-Serif\" font-size=\"14.00\" fill=\"#000000\">Catatan_kredit ≤ 1.5</text>\n<text text-anchor=\"start\" x=\"337\" y=\"-156.8\" font-family=\"Helvetica,sans-Serif\" font-size=\"14.00\" fill=\"#000000\">entropy = 1.0</text>\n<text text-anchor=\"start\" x=\"340\" y=\"-141.8\" font-family=\"Helvetica,sans-Serif\" font-size=\"14.00\" fill=\"#000000\">samples = 2</text>\n<text text-anchor=\"start\" x=\"338\" y=\"-126.8\" font-family=\"Helvetica,sans-Serif\" font-size=\"14.00\" fill=\"#000000\">value = [1, 1]</text>\n<text text-anchor=\"start\" x=\"331.5\" y=\"-111.8\" font-family=\"Helvetica,sans-Serif\" font-size=\"14.00\" fill=\"#000000\">class = rendah</text>\n</g>\n<!-- 6&#45;&gt;7 -->\n<g id=\"edge7\" class=\"edge\">\n<title>6&#45;&gt;7</title>\n<path fill=\"none\" stroke=\"#000000\" d=\"M379.5,-222.8796C379.5,-214.6838 379.5,-205.9891 379.5,-197.5013\"/>\n<polygon fill=\"#000000\" stroke=\"#000000\" points=\"383.0001,-197.298 379.5,-187.2981 376.0001,-197.2981 383.0001,-197.298\"/>\n</g>\n<!-- 10 -->\n<g id=\"node11\" class=\"node\">\n<title>10</title>\n<path fill=\"#e58139\" stroke=\"#000000\" d=\"M570.5,-179.5C570.5,-179.5 482.5,-179.5 482.5,-179.5 476.5,-179.5 470.5,-173.5 470.5,-167.5 470.5,-167.5 470.5,-123.5 470.5,-123.5 470.5,-117.5 476.5,-111.5 482.5,-111.5 482.5,-111.5 570.5,-111.5 570.5,-111.5 576.5,-111.5 582.5,-117.5 582.5,-123.5 582.5,-123.5 582.5,-167.5 582.5,-167.5 582.5,-173.5 576.5,-179.5 570.5,-179.5\"/>\n<text text-anchor=\"start\" x=\"484\" y=\"-164.3\" font-family=\"Helvetica,sans-Serif\" font-size=\"14.00\" fill=\"#000000\">entropy = 0.0</text>\n<text text-anchor=\"start\" x=\"487\" y=\"-149.3\" font-family=\"Helvetica,sans-Serif\" font-size=\"14.00\" fill=\"#000000\">samples = 3</text>\n<text text-anchor=\"start\" x=\"485\" y=\"-134.3\" font-family=\"Helvetica,sans-Serif\" font-size=\"14.00\" fill=\"#000000\">value = [3, 0]</text>\n<text text-anchor=\"start\" x=\"478.5\" y=\"-119.3\" font-family=\"Helvetica,sans-Serif\" font-size=\"14.00\" fill=\"#000000\">class = rendah</text>\n</g>\n<!-- 6&#45;&gt;10 -->\n<g id=\"edge10\" class=\"edge\">\n<title>6&#45;&gt;10</title>\n<path fill=\"none\" stroke=\"#000000\" d=\"M430.9135,-222.8796C445.5835,-211.0038 461.5477,-198.0804 476.1533,-186.2568\"/>\n<polygon fill=\"#000000\" stroke=\"#000000\" points=\"478.5407,-188.8273 484.111,-179.8149 474.1363,-183.3866 478.5407,-188.8273\"/>\n</g>\n<!-- 8 -->\n<g id=\"node9\" class=\"node\">\n<title>8</title>\n<path fill=\"#399de5\" stroke=\"#000000\" d=\"M378,-68C378,-68 301,-68 301,-68 295,-68 289,-62 289,-56 289,-56 289,-12 289,-12 289,-6 295,0 301,0 301,0 378,0 378,0 384,0 390,-6 390,-12 390,-12 390,-56 390,-56 390,-62 384,-68 378,-68\"/>\n<text text-anchor=\"start\" x=\"297\" y=\"-52.8\" font-family=\"Helvetica,sans-Serif\" font-size=\"14.00\" fill=\"#000000\">entropy = 0.0</text>\n<text text-anchor=\"start\" x=\"300\" y=\"-37.8\" font-family=\"Helvetica,sans-Serif\" font-size=\"14.00\" fill=\"#000000\">samples = 1</text>\n<text text-anchor=\"start\" x=\"298\" y=\"-22.8\" font-family=\"Helvetica,sans-Serif\" font-size=\"14.00\" fill=\"#000000\">value = [0, 1]</text>\n<text text-anchor=\"start\" x=\"297\" y=\"-7.8\" font-family=\"Helvetica,sans-Serif\" font-size=\"14.00\" fill=\"#000000\">class = tinggi</text>\n</g>\n<!-- 7&#45;&gt;8 -->\n<g id=\"edge8\" class=\"edge\">\n<title>7&#45;&gt;8</title>\n<path fill=\"none\" stroke=\"#000000\" d=\"M364.6055,-103.9815C361.5392,-95.4342 358.3013,-86.4086 355.2072,-77.7839\"/>\n<polygon fill=\"#000000\" stroke=\"#000000\" points=\"358.4631,-76.4944 351.7919,-68.2637 351.8743,-78.8582 358.4631,-76.4944\"/>\n</g>\n<!-- 9 -->\n<g id=\"node10\" class=\"node\">\n<title>9</title>\n<path fill=\"#e58139\" stroke=\"#000000\" d=\"M508.5,-68C508.5,-68 420.5,-68 420.5,-68 414.5,-68 408.5,-62 408.5,-56 408.5,-56 408.5,-12 408.5,-12 408.5,-6 414.5,0 420.5,0 420.5,0 508.5,0 508.5,0 514.5,0 520.5,-6 520.5,-12 520.5,-12 520.5,-56 520.5,-56 520.5,-62 514.5,-68 508.5,-68\"/>\n<text text-anchor=\"start\" x=\"422\" y=\"-52.8\" font-family=\"Helvetica,sans-Serif\" font-size=\"14.00\" fill=\"#000000\">entropy = 0.0</text>\n<text text-anchor=\"start\" x=\"425\" y=\"-37.8\" font-family=\"Helvetica,sans-Serif\" font-size=\"14.00\" fill=\"#000000\">samples = 1</text>\n<text text-anchor=\"start\" x=\"423\" y=\"-22.8\" font-family=\"Helvetica,sans-Serif\" font-size=\"14.00\" fill=\"#000000\">value = [1, 0]</text>\n<text text-anchor=\"start\" x=\"416.5\" y=\"-7.8\" font-family=\"Helvetica,sans-Serif\" font-size=\"14.00\" fill=\"#000000\">class = rendah</text>\n</g>\n<!-- 7&#45;&gt;9 -->\n<g id=\"edge9\" class=\"edge\">\n<title>7&#45;&gt;9</title>\n<path fill=\"none\" stroke=\"#000000\" d=\"M411.1509,-103.9815C418.0171,-94.9747 425.2882,-85.4367 432.1798,-76.3965\"/>\n<polygon fill=\"#000000\" stroke=\"#000000\" points=\"435.1005,-78.3383 438.3797,-68.2637 429.5336,-74.0945 435.1005,-78.3383\"/>\n</g>\n</g>\n</svg>\n"
          },
          "metadata": {},
          "execution_count": 142
        }
      ]
    },
    {
      "cell_type": "code",
      "source": [
        "from sklearn.model_selection import KFold\n",
        "from sklearn.model_selection import cross_val_score"
      ],
      "metadata": {
        "id": "V_DcAwML_Q9M"
      },
      "execution_count": 143,
      "outputs": []
    },
    {
      "cell_type": "code",
      "source": [
        "cv = KFold(n_splits=3, random_state=1, shuffle=True)"
      ],
      "metadata": {
        "id": "WmxP6cQU_e8Y"
      },
      "execution_count": 144,
      "outputs": []
    },
    {
      "cell_type": "code",
      "source": [
        "score = cross_val_score(dtree, x, y, scoring='accuracy', cv=cv, n_jobs=-1)"
      ],
      "metadata": {
        "id": "SBiz5Pcj_n40"
      },
      "execution_count": 146,
      "outputs": []
    },
    {
      "cell_type": "code",
      "source": [
        "print('accuracy score of each fold:',score)\n",
        "print('accuracy: %.ef (%3.f)'% (np.mean(score), np.std(score)))"
      ],
      "metadata": {
        "colab": {
          "base_uri": "https://localhost:8080/"
        },
        "id": "9QvXVVTa_7Rq",
        "outputId": "53ca9aaa-1578-4f95-e94c-5014c766cdd3"
      },
      "execution_count": 147,
      "outputs": [
        {
          "output_type": "stream",
          "name": "stdout",
          "text": [
            "accuracy score of each fold: [0.6  0.8  0.75]\n",
            "accuracy: 7e-01f (  0)\n"
          ]
        }
      ]
    },
    {
      "cell_type": "code",
      "source": [
        "clf = DecisionTreeClassifier(random_state=0)\n",
        "path = clf.cost_complexity_pruning_path(x_train,y_train)\n",
        "ccp_alphas, impurities = path.ccp_alphas, path.impurities"
      ],
      "metadata": {
        "id": "Jt_5rcYGAVa8"
      },
      "execution_count": 148,
      "outputs": []
    },
    {
      "cell_type": "code",
      "source": [
        "clfs=[]\n",
        "for ccp_alpha in ccp_alphas:\n",
        "  clf = DecisionTreeClassifier(random_state=0, ccp_alpha=ccp_alpha)\n",
        "  clf.fit(x_train,y_train)\n",
        "  clfs.append(clf)\n",
        "print('number of nodes in the last tree is : () with ccp_alpha: ()'.format(clfs[-1].tree_.node_count, ccp_alphas[-1]))\n"
      ],
      "metadata": {
        "colab": {
          "base_uri": "https://localhost:8080/"
        },
        "id": "VJ_2yOxBArSp",
        "outputId": "0627e8e7-5eca-48e2-c99b-214698a405db"
      },
      "execution_count": 149,
      "outputs": [
        {
          "output_type": "stream",
          "name": "stdout",
          "text": [
            "number of nodes in the last tree is : () with ccp_alpha: ()\n"
          ]
        }
      ]
    },
    {
      "cell_type": "code",
      "source": [
        "train_scores = [clf.score(x_train, y_train) for clf in clfs]\n",
        "test_scores = [clf.score(x_test, y_test) for clf in clfs]\n",
        "\n",
        "fig, ax = plt.subplots()\n",
        "ax.set_xlabel('alpha')\n",
        "ax.set_ylabel ('accuracy')\n",
        "ax.set_title('Accuracy vs alpha for training and testing sets')\n",
        "ax.plot(ccp_alphas, train_scores, marker = 'o', label = 'train', drawstyle = 'steps-post')\n",
        "ax.plot(ccp_alphas, test_scores, marker = 'o', label = 'test', drawstyle = 'steps-post')\n",
        "ax.legend()\n",
        "plt.show()"
      ],
      "metadata": {
        "colab": {
          "base_uri": "https://localhost:8080/",
          "height": 295
        },
        "id": "n87JNTrCBjih",
        "outputId": "b4aeff1d-737b-4cce-da68-fa47a148ea10"
      },
      "execution_count": 150,
      "outputs": [
        {
          "output_type": "display_data",
          "data": {
            "text/plain": [
              "<Figure size 432x288 with 1 Axes>"
            ],
            "image/png": "[encoded data removed]"
          },
          "metadata": {
            "needs_background": "light"
          }
        }
      ]
    },
    {
      "cell_type": "code",
      "source": [
        "import graphviz\n",
        "dot_data = tree.export_graphviz(dtree, out_file=None, feature_names=x_train.columns,\n",
        "                                class_names=np.unique(y_train),filled= True, rounded = True,\n",
        "                                special_characters = True)\n",
        "graph = graphviz.Source(dot_data)\n",
        "graph"
      ],
      "metadata": {
        "colab": {
          "base_uri": "https://localhost:8080/",
          "height": 598
        },
        "id": "si16bGJKBs1H",
        "outputId": "648f0f68-8ba4-4e2d-9101-4b4f55d0d061"
      },
      "execution_count": 151,
      "outputs": [
        {
          "output_type": "execute_result",
          "data": {
            "text/plain": [
              "<graphviz.files.Source at 0x7ff4472774f0>"
            ],
            "image/svg+xml": "<?xml version=\"1.0\" encoding=\"UTF-8\" standalone=\"no\"?>\n<!DOCTYPE svg PUBLIC \"-//W3C//DTD SVG 1.1//EN\"\n \"http://www.w3.org/Graphics/SVG/1.1/DTD/svg11.dtd\">\n<!-- Generated by graphviz version 2.40.1 (20161225.0304)\n -->\n<!-- Title: Tree Pages: 1 -->\n<svg width=\"591pt\" height=\"433pt\"\n viewBox=\"0.00 0.00 590.50 433.00\" xmlns=\"http://www.w3.org/2000/svg\" xmlns:xlink=\"http://www.w3.org/1999/xlink\">\n<g id=\"graph0\" class=\"graph\" transform=\"scale(1 1) rotate(0) translate(4 429)\">\n<title>Tree</title>\n<polygon fill=\"#ffffff\" stroke=\"transparent\" points=\"-4,4 -4,-429 586.5,-429 586.5,4 -4,4\"/>\n<!-- 0 -->\n<g id=\"node1\" class=\"node\">\n<title>0</title>\n<path fill=\"#deeffb\" stroke=\"#000000\" d=\"M362,-425C362,-425 255,-425 255,-425 249,-425 243,-419 243,-413 243,-413 243,-354 243,-354 243,-348 249,-342 255,-342 255,-342 362,-342 362,-342 368,-342 374,-348 374,-354 374,-354 374,-413 374,-413 374,-419 368,-425 362,-425\"/>\n<text text-anchor=\"start\" x=\"251\" y=\"-409.8\" font-family=\"Helvetica,sans-Serif\" font-size=\"14.00\" fill=\"#000000\">Pendapatan ≤ 1.5</text>\n<text text-anchor=\"start\" x=\"257.5\" y=\"-394.8\" font-family=\"Helvetica,sans-Serif\" font-size=\"14.00\" fill=\"#000000\">entropy = 0.994</text>\n<text text-anchor=\"start\" x=\"264.5\" y=\"-379.8\" font-family=\"Helvetica,sans-Serif\" font-size=\"14.00\" fill=\"#000000\">samples = 11</text>\n<text text-anchor=\"start\" x=\"267\" y=\"-364.8\" font-family=\"Helvetica,sans-Serif\" font-size=\"14.00\" fill=\"#000000\">value = [5, 6]</text>\n<text text-anchor=\"start\" x=\"266\" y=\"-349.8\" font-family=\"Helvetica,sans-Serif\" font-size=\"14.00\" fill=\"#000000\">class = tinggi</text>\n</g>\n<!-- 1 -->\n<g id=\"node2\" class=\"node\">\n<title>1</title>\n<path fill=\"#61b1ea\" stroke=\"#000000\" d=\"M280.5,-306C280.5,-306 194.5,-306 194.5,-306 188.5,-306 182.5,-300 182.5,-294 182.5,-294 182.5,-235 182.5,-235 182.5,-229 188.5,-223 194.5,-223 194.5,-223 280.5,-223 280.5,-223 286.5,-223 292.5,-229 292.5,-235 292.5,-235 292.5,-294 292.5,-294 292.5,-300 286.5,-306 280.5,-306\"/>\n<text text-anchor=\"start\" x=\"200\" y=\"-290.8\" font-family=\"Helvetica,sans-Serif\" font-size=\"14.00\" fill=\"#000000\">Utang ≤ 0.5</text>\n<text text-anchor=\"start\" x=\"190.5\" y=\"-275.8\" font-family=\"Helvetica,sans-Serif\" font-size=\"14.00\" fill=\"#000000\">entropy = 0.65</text>\n<text text-anchor=\"start\" x=\"198\" y=\"-260.8\" font-family=\"Helvetica,sans-Serif\" font-size=\"14.00\" fill=\"#000000\">samples = 6</text>\n<text text-anchor=\"start\" x=\"196\" y=\"-245.8\" font-family=\"Helvetica,sans-Serif\" font-size=\"14.00\" fill=\"#000000\">value = [1, 5]</text>\n<text text-anchor=\"start\" x=\"195\" y=\"-230.8\" font-family=\"Helvetica,sans-Serif\" font-size=\"14.00\" fill=\"#000000\">class = tinggi</text>\n</g>\n<!-- 0&#45;&gt;1 -->\n<g id=\"edge1\" class=\"edge\">\n<title>0&#45;&gt;1</title>\n<path fill=\"none\" stroke=\"#000000\" d=\"M283.6676,-341.8796C278.5091,-333.2335 273.0192,-324.0322 267.6924,-315.1042\"/>\n<polygon fill=\"#000000\" stroke=\"#000000\" points=\"270.5678,-313.0924 262.4383,-306.2981 264.5564,-316.679 270.5678,-313.0924\"/>\n<text text-anchor=\"middle\" x=\"256.3149\" y=\"-326.8366\" font-family=\"Helvetica,sans-Serif\" font-size=\"14.00\" fill=\"#000000\">True</text>\n</g>\n<!-- 6 -->\n<g id=\"node7\" class=\"node\">\n<title>6</title>\n<path fill=\"#eca06a\" stroke=\"#000000\" d=\"M426.5,-306C426.5,-306 332.5,-306 332.5,-306 326.5,-306 320.5,-300 320.5,-294 320.5,-294 320.5,-235 320.5,-235 320.5,-229 326.5,-223 332.5,-223 332.5,-223 426.5,-223 426.5,-223 432.5,-223 438.5,-229 438.5,-235 438.5,-235 438.5,-294 438.5,-294 438.5,-300 432.5,-306 426.5,-306\"/>\n<text text-anchor=\"start\" x=\"334\" y=\"-290.8\" font-family=\"Helvetica,sans-Serif\" font-size=\"14.00\" fill=\"#000000\">Jaminan ≤ 0.5</text>\n<text text-anchor=\"start\" x=\"328.5\" y=\"-275.8\" font-family=\"Helvetica,sans-Serif\" font-size=\"14.00\" fill=\"#000000\">entropy = 0.722</text>\n<text text-anchor=\"start\" x=\"340\" y=\"-260.8\" font-family=\"Helvetica,sans-Serif\" font-size=\"14.00\" fill=\"#000000\">samples = 5</text>\n<text text-anchor=\"start\" x=\"338\" y=\"-245.8\" font-family=\"Helvetica,sans-Serif\" font-size=\"14.00\" fill=\"#000000\">value = [4, 1]</text>\n<text text-anchor=\"start\" x=\"331.5\" y=\"-230.8\" font-family=\"Helvetica,sans-Serif\" font-size=\"14.00\" fill=\"#000000\">class = rendah</text>\n</g>\n<!-- 0&#45;&gt;6 -->\n<g id=\"edge6\" class=\"edge\">\n<title>0&#45;&gt;6</title>\n<path fill=\"none\" stroke=\"#000000\" d=\"M333.3324,-341.8796C338.4909,-333.2335 343.9808,-324.0322 349.3076,-315.1042\"/>\n<polygon fill=\"#000000\" stroke=\"#000000\" points=\"352.4436,-316.679 354.5617,-306.2981 346.4322,-313.0924 352.4436,-316.679\"/>\n<text text-anchor=\"middle\" x=\"360.6851\" y=\"-326.8366\" font-family=\"Helvetica,sans-Serif\" font-size=\"14.00\" fill=\"#000000\">False</text>\n</g>\n<!-- 2 -->\n<g id=\"node3\" class=\"node\">\n<title>2</title>\n<path fill=\"#ffffff\" stroke=\"#000000\" d=\"M156.5,-187C156.5,-187 34.5,-187 34.5,-187 28.5,-187 22.5,-181 22.5,-175 22.5,-175 22.5,-116 22.5,-116 22.5,-110 28.5,-104 34.5,-104 34.5,-104 156.5,-104 156.5,-104 162.5,-104 168.5,-110 168.5,-116 168.5,-116 168.5,-175 168.5,-175 168.5,-181 162.5,-187 156.5,-187\"/>\n<text text-anchor=\"start\" x=\"30.5\" y=\"-171.8\" font-family=\"Helvetica,sans-Serif\" font-size=\"14.00\" fill=\"#000000\">Catatan_kredit ≤ 1.5</text>\n<text text-anchor=\"start\" x=\"53\" y=\"-156.8\" font-family=\"Helvetica,sans-Serif\" font-size=\"14.00\" fill=\"#000000\">entropy = 1.0</text>\n<text text-anchor=\"start\" x=\"56\" y=\"-141.8\" font-family=\"Helvetica,sans-Serif\" font-size=\"14.00\" fill=\"#000000\">samples = 2</text>\n<text text-anchor=\"start\" x=\"54\" y=\"-126.8\" font-family=\"Helvetica,sans-Serif\" font-size=\"14.00\" fill=\"#000000\">value = [1, 1]</text>\n<text text-anchor=\"start\" x=\"47.5\" y=\"-111.8\" font-family=\"Helvetica,sans-Serif\" font-size=\"14.00\" fill=\"#000000\">class = rendah</text>\n</g>\n<!-- 1&#45;&gt;2 -->\n<g id=\"edge2\" class=\"edge\">\n<title>1&#45;&gt;2</title>\n<path fill=\"none\" stroke=\"#000000\" d=\"M187.8353,-222.8796C176.6584,-213.513 164.7038,-203.4948 153.2288,-193.8784\"/>\n<polygon fill=\"#000000\" stroke=\"#000000\" points=\"155.2893,-191.0386 145.3767,-187.2981 150.7931,-196.4037 155.2893,-191.0386\"/>\n</g>\n<!-- 5 -->\n<g id=\"node6\" class=\"node\">\n<title>5</title>\n<path fill=\"#399de5\" stroke=\"#000000\" d=\"M276,-179.5C276,-179.5 199,-179.5 199,-179.5 193,-179.5 187,-173.5 187,-167.5 187,-167.5 187,-123.5 187,-123.5 187,-117.5 193,-111.5 199,-111.5 199,-111.5 276,-111.5 276,-111.5 282,-111.5 288,-117.5 288,-123.5 288,-123.5 288,-167.5 288,-167.5 288,-173.5 282,-179.5 276,-179.5\"/>\n<text text-anchor=\"start\" x=\"195\" y=\"-164.3\" font-family=\"Helvetica,sans-Serif\" font-size=\"14.00\" fill=\"#000000\">entropy = 0.0</text>\n<text text-anchor=\"start\" x=\"198\" y=\"-149.3\" font-family=\"Helvetica,sans-Serif\" font-size=\"14.00\" fill=\"#000000\">samples = 4</text>\n<text text-anchor=\"start\" x=\"196\" y=\"-134.3\" font-family=\"Helvetica,sans-Serif\" font-size=\"14.00\" fill=\"#000000\">value = [0, 4]</text>\n<text text-anchor=\"start\" x=\"195\" y=\"-119.3\" font-family=\"Helvetica,sans-Serif\" font-size=\"14.00\" fill=\"#000000\">class = tinggi</text>\n</g>\n<!-- 1&#45;&gt;5 -->\n<g id=\"edge5\" class=\"edge\">\n<title>1&#45;&gt;5</title>\n<path fill=\"none\" stroke=\"#000000\" d=\"M237.5,-222.8796C237.5,-212.2134 237.5,-200.7021 237.5,-189.9015\"/>\n<polygon fill=\"#000000\" stroke=\"#000000\" points=\"241.0001,-189.8149 237.5,-179.8149 234.0001,-189.815 241.0001,-189.8149\"/>\n</g>\n<!-- 3 -->\n<g id=\"node4\" class=\"node\">\n<title>3</title>\n<path fill=\"#399de5\" stroke=\"#000000\" d=\"M89,-68C89,-68 12,-68 12,-68 6,-68 0,-62 0,-56 0,-56 0,-12 0,-12 0,-6 6,0 12,0 12,0 89,0 89,0 95,0 101,-6 101,-12 101,-12 101,-56 101,-56 101,-62 95,-68 89,-68\"/>\n<text text-anchor=\"start\" x=\"8\" y=\"-52.8\" font-family=\"Helvetica,sans-Serif\" font-size=\"14.00\" fill=\"#000000\">entropy = 0.0</text>\n<text text-anchor=\"start\" x=\"11\" y=\"-37.8\" font-family=\"Helvetica,sans-Serif\" font-size=\"14.00\" fill=\"#000000\">samples = 1</text>\n<text text-anchor=\"start\" x=\"9\" y=\"-22.8\" font-family=\"Helvetica,sans-Serif\" font-size=\"14.00\" fill=\"#000000\">value = [0, 1]</text>\n<text text-anchor=\"start\" x=\"8\" y=\"-7.8\" font-family=\"Helvetica,sans-Serif\" font-size=\"14.00\" fill=\"#000000\">class = tinggi</text>\n</g>\n<!-- 2&#45;&gt;3 -->\n<g id=\"edge3\" class=\"edge\">\n<title>2&#45;&gt;3</title>\n<path fill=\"none\" stroke=\"#000000\" d=\"M78.7437,-103.9815C75.2941,-95.4342 71.6514,-86.4086 68.1706,-77.7839\"/>\n<polygon fill=\"#000000\" stroke=\"#000000\" points=\"71.3167,-76.227 64.3284,-68.2637 64.8254,-78.8469 71.3167,-76.227\"/>\n</g>\n<!-- 4 -->\n<g id=\"node5\" class=\"node\">\n<title>4</title>\n<path fill=\"#e58139\" stroke=\"#000000\" d=\"M219.5,-68C219.5,-68 131.5,-68 131.5,-68 125.5,-68 119.5,-62 119.5,-56 119.5,-56 119.5,-12 119.5,-12 119.5,-6 125.5,0 131.5,0 131.5,0 219.5,0 219.5,0 225.5,0 231.5,-6 231.5,-12 231.5,-12 231.5,-56 231.5,-56 231.5,-62 225.5,-68 219.5,-68\"/>\n<text text-anchor=\"start\" x=\"133\" y=\"-52.8\" font-family=\"Helvetica,sans-Serif\" font-size=\"14.00\" fill=\"#000000\">entropy = 0.0</text>\n<text text-anchor=\"start\" x=\"136\" y=\"-37.8\" font-family=\"Helvetica,sans-Serif\" font-size=\"14.00\" fill=\"#000000\">samples = 1</text>\n<text text-anchor=\"start\" x=\"134\" y=\"-22.8\" font-family=\"Helvetica,sans-Serif\" font-size=\"14.00\" fill=\"#000000\">value = [1, 0]</text>\n<text text-anchor=\"start\" x=\"127.5\" y=\"-7.8\" font-family=\"Helvetica,sans-Serif\" font-size=\"14.00\" fill=\"#000000\">class = rendah</text>\n</g>\n<!-- 2&#45;&gt;4 -->\n<g id=\"edge4\" class=\"edge\">\n<title>2&#45;&gt;4</title>\n<path fill=\"none\" stroke=\"#000000\" d=\"M125.289,-103.9815C131.7514,-94.9747 138.5948,-85.4367 145.081,-76.3965\"/>\n<polygon fill=\"#000000\" stroke=\"#000000\" points=\"147.9303,-78.4291 150.9162,-68.2637 142.2428,-74.3483 147.9303,-78.4291\"/>\n</g>\n<!-- 7 -->\n<g id=\"node8\" class=\"node\">\n<title>7</title>\n<path fill=\"#ffffff\" stroke=\"#000000\" d=\"M440.5,-187C440.5,-187 318.5,-187 318.5,-187 312.5,-187 306.5,-181 306.5,-175 306.5,-175 306.5,-116 306.5,-116 306.5,-110 312.5,-104 318.5,-104 318.5,-104 440.5,-104 440.5,-104 446.5,-104 452.5,-110 452.5,-116 452.5,-116 452.5,-175 452.5,-175 452.5,-181 446.5,-187 440.5,-187\"/>\n<text text-anchor=\"start\" x=\"314.5\" y=\"-171.8\" font-family=\"Helvetica,sans-Serif\" font-size=\"14.00\" fill=\"#000000\">Catatan_kredit ≤ 1.5</text>\n<text text-anchor=\"start\" x=\"337\" y=\"-156.8\" font-family=\"Helvetica,sans-Serif\" font-size=\"14.00\" fill=\"#000000\">entropy = 1.0</text>\n<text text-anchor=\"start\" x=\"340\" y=\"-141.8\" font-family=\"Helvetica,sans-Serif\" font-size=\"14.00\" fill=\"#000000\">samples = 2</text>\n<text text-anchor=\"start\" x=\"338\" y=\"-126.8\" font-family=\"Helvetica,sans-Serif\" font-size=\"14.00\" fill=\"#000000\">value = [1, 1]</text>\n<text text-anchor=\"start\" x=\"331.5\" y=\"-111.8\" font-family=\"Helvetica,sans-Serif\" font-size=\"14.00\" fill=\"#000000\">class = rendah</text>\n</g>\n<!-- 6&#45;&gt;7 -->\n<g id=\"edge7\" class=\"edge\">\n<title>6&#45;&gt;7</title>\n<path fill=\"none\" stroke=\"#000000\" d=\"M379.5,-222.8796C379.5,-214.6838 379.5,-205.9891 379.5,-197.5013\"/>\n<polygon fill=\"#000000\" stroke=\"#000000\" points=\"383.0001,-197.298 379.5,-187.2981 376.0001,-197.2981 383.0001,-197.298\"/>\n</g>\n<!-- 10 -->\n<g id=\"node11\" class=\"node\">\n<title>10</title>\n<path fill=\"#e58139\" stroke=\"#000000\" d=\"M570.5,-179.5C570.5,-179.5 482.5,-179.5 482.5,-179.5 476.5,-179.5 470.5,-173.5 470.5,-167.5 470.5,-167.5 470.5,-123.5 470.5,-123.5 470.5,-117.5 476.5,-111.5 482.5,-111.5 482.5,-111.5 570.5,-111.5 570.5,-111.5 576.5,-111.5 582.5,-117.5 582.5,-123.5 582.5,-123.5 582.5,-167.5 582.5,-167.5 582.5,-173.5 576.5,-179.5 570.5,-179.5\"/>\n<text text-anchor=\"start\" x=\"484\" y=\"-164.3\" font-family=\"Helvetica,sans-Serif\" font-size=\"14.00\" fill=\"#000000\">entropy = 0.0</text>\n<text text-anchor=\"start\" x=\"487\" y=\"-149.3\" font-family=\"Helvetica,sans-Serif\" font-size=\"14.00\" fill=\"#000000\">samples = 3</text>\n<text text-anchor=\"start\" x=\"485\" y=\"-134.3\" font-family=\"Helvetica,sans-Serif\" font-size=\"14.00\" fill=\"#000000\">value = [3, 0]</text>\n<text text-anchor=\"start\" x=\"478.5\" y=\"-119.3\" font-family=\"Helvetica,sans-Serif\" font-size=\"14.00\" fill=\"#000000\">class = rendah</text>\n</g>\n<!-- 6&#45;&gt;10 -->\n<g id=\"edge10\" class=\"edge\">\n<title>6&#45;&gt;10</title>\n<path fill=\"none\" stroke=\"#000000\" d=\"M430.9135,-222.8796C445.5835,-211.0038 461.5477,-198.0804 476.1533,-186.2568\"/>\n<polygon fill=\"#000000\" stroke=\"#000000\" points=\"478.5407,-188.8273 484.111,-179.8149 474.1363,-183.3866 478.5407,-188.8273\"/>\n</g>\n<!-- 8 -->\n<g id=\"node9\" class=\"node\">\n<title>8</title>\n<path fill=\"#399de5\" stroke=\"#000000\" d=\"M378,-68C378,-68 301,-68 301,-68 295,-68 289,-62 289,-56 289,-56 289,-12 289,-12 289,-6 295,0 301,0 301,0 378,0 378,0 384,0 390,-6 390,-12 390,-12 390,-56 390,-56 390,-62 384,-68 378,-68\"/>\n<text text-anchor=\"start\" x=\"297\" y=\"-52.8\" font-family=\"Helvetica,sans-Serif\" font-size=\"14.00\" fill=\"#000000\">entropy = 0.0</text>\n<text text-anchor=\"start\" x=\"300\" y=\"-37.8\" font-family=\"Helvetica,sans-Serif\" font-size=\"14.00\" fill=\"#000000\">samples = 1</text>\n<text text-anchor=\"start\" x=\"298\" y=\"-22.8\" font-family=\"Helvetica,sans-Serif\" font-size=\"14.00\" fill=\"#000000\">value = [0, 1]</text>\n<text text-anchor=\"start\" x=\"297\" y=\"-7.8\" font-family=\"Helvetica,sans-Serif\" font-size=\"14.00\" fill=\"#000000\">class = tinggi</text>\n</g>\n<!-- 7&#45;&gt;8 -->\n<g id=\"edge8\" class=\"edge\">\n<title>7&#45;&gt;8</title>\n<path fill=\"none\" stroke=\"#000000\" d=\"M364.6055,-103.9815C361.5392,-95.4342 358.3013,-86.4086 355.2072,-77.7839\"/>\n<polygon fill=\"#000000\" stroke=\"#000000\" points=\"358.4631,-76.4944 351.7919,-68.2637 351.8743,-78.8582 358.4631,-76.4944\"/>\n</g>\n<!-- 9 -->\n<g id=\"node10\" class=\"node\">\n<title>9</title>\n<path fill=\"#e58139\" stroke=\"#000000\" d=\"M508.5,-68C508.5,-68 420.5,-68 420.5,-68 414.5,-68 408.5,-62 408.5,-56 408.5,-56 408.5,-12 408.5,-12 408.5,-6 414.5,0 420.5,0 420.5,0 508.5,0 508.5,0 514.5,0 520.5,-6 520.5,-12 520.5,-12 520.5,-56 520.5,-56 520.5,-62 514.5,-68 508.5,-68\"/>\n<text text-anchor=\"start\" x=\"422\" y=\"-52.8\" font-family=\"Helvetica,sans-Serif\" font-size=\"14.00\" fill=\"#000000\">entropy = 0.0</text>\n<text text-anchor=\"start\" x=\"425\" y=\"-37.8\" font-family=\"Helvetica,sans-Serif\" font-size=\"14.00\" fill=\"#000000\">samples = 1</text>\n<text text-anchor=\"start\" x=\"423\" y=\"-22.8\" font-family=\"Helvetica,sans-Serif\" font-size=\"14.00\" fill=\"#000000\">value = [1, 0]</text>\n<text text-anchor=\"start\" x=\"416.5\" y=\"-7.8\" font-family=\"Helvetica,sans-Serif\" font-size=\"14.00\" fill=\"#000000\">class = rendah</text>\n</g>\n<!-- 7&#45;&gt;9 -->\n<g id=\"edge9\" class=\"edge\">\n<title>7&#45;&gt;9</title>\n<path fill=\"none\" stroke=\"#000000\" d=\"M411.1509,-103.9815C418.0171,-94.9747 425.2882,-85.4367 432.1798,-76.3965\"/>\n<polygon fill=\"#000000\" stroke=\"#000000\" points=\"435.1005,-78.3383 438.3797,-68.2637 429.5336,-74.0945 435.1005,-78.3383\"/>\n</g>\n</g>\n</svg>\n"
          },
          "metadata": {},
          "execution_count": 151
        }
      ]
    }
  ]
}